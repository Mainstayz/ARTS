{
 "cells": [
  {
   "cell_type": "markdown",
   "metadata": {},
   "source": [
    "## 判断一个数是否是回文数\n",
    "\n",
    "条件\n",
    "\n",
    "* 非负数左右完全对称，则为回文数。 如 121，22\n",
    "* 弱为负数，如其绝对值左右完全对称也为回文数。 如 -121，-22\n"
   ]
  },
  {
   "cell_type": "code",
   "execution_count": 1,
   "metadata": {},
   "outputs": [],
   "source": [
    "#include <iostream>\n",
    "using namespace std;\n",
    "int a[] = {121121,33,42,12,-525,88,100,6};"
   ]
  },
  {
   "cell_type": "code",
   "execution_count": 2,
   "metadata": {},
   "outputs": [
    {
     "name": "stdout",
     "output_type": "stream",
     "text": [
      "121121 isPrlindrome!!\n",
      "33 isPrlindrome!!\n",
      "42\n",
      "12\n",
      "-525 isPrlindrome!!\n",
      "88 isPrlindrome!!\n",
      "100\n",
      "6 isPrlindrome!!\n"
     ]
    }
   ],
   "source": [
    "bool isPrlindrome(int num) {\n",
    "    if (num < 0) {\n",
    "        num = -num;\n",
    "    }\n",
    "    bool result = true;\n",
    "    int temp = 1;\n",
    "    while(num / temp >= 10) {\n",
    "        temp *= 10;\n",
    "    }    \n",
    "    do {\n",
    "        if (num/temp == num%10) {\n",
    "            num -= (num / temp * temp);\n",
    "            num /=10;\n",
    "            temp /= 100;\n",
    "        } else {\n",
    "            result = false;\n",
    "            break;\n",
    "        }\n",
    "    }while(num > 1);\n",
    "    \n",
    "    return result;\n",
    "    \n",
    "}\n",
    "\n",
    "for(int i = 0; i < 8; i++ ) {\n",
    "    int number = a[i];\n",
    "    bool result = isPrlindrome(number);\n",
    "    cout << number;\n",
    "    if (result) {\n",
    "        cout << \" isPrlindrome!!\" << endl;\n",
    "    } else {\n",
    "        cout << \"\" << endl;\n",
    "    }\n",
    "}"
   ]
  }
 ],
 "metadata": {
  "kernelspec": {
   "display_name": "C++11",
   "language": "C++11",
   "name": "xeus-cling-cpp11"
  },
  "language_info": {
   "codemirror_mode": "text/x-c++src",
   "file_extension": ".cpp",
   "mimetype": "text/x-c++src",
   "name": "c++",
   "version": "-std=c++11"
  }
 },
 "nbformat": 4,
 "nbformat_minor": 2
}
