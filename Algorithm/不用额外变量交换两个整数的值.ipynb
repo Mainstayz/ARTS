{
 "cells": [
  {
   "cell_type": "markdown",
   "metadata": {},
   "source": [
    "# 不用额外变量交换两个整数的值"
   ]
  },
  {
   "cell_type": "code",
   "execution_count": 2,
   "metadata": {},
   "outputs": [
    {
     "name": "stdout",
     "output_type": "stream",
     "text": [
      "a = 4\n",
      "b = 7\n",
      "a = 3\n"
     ]
    }
   ],
   "source": [
    "a = 7 # 0111\n",
    "b = 3 # 0011\n",
    "\n",
    "a = a ^ b\n",
    "print(\"a = {}\".format(a))\n",
    "b = a ^ b\n",
    "print(\"b = {}\".format(b))\n",
    "a = a ^ b\n",
    "print(\"a = {}\".format(a))\n"
   ]
  },
  {
   "cell_type": "code",
   "execution_count": null,
   "metadata": {},
   "outputs": [],
   "source": []
  }
 ],
 "metadata": {
  "kernelspec": {
   "display_name": "Python 3",
   "language": "python",
   "name": "python3"
  },
  "language_info": {
   "codemirror_mode": {
    "name": "ipython",
    "version": 3
   },
   "file_extension": ".py",
   "mimetype": "text/x-python",
   "name": "python",
   "nbconvert_exporter": "python",
   "pygments_lexer": "ipython3",
   "version": "3.7.1"
  }
 },
 "nbformat": 4,
 "nbformat_minor": 2
}
